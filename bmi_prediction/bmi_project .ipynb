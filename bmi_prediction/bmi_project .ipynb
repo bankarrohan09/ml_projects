{
 "cells": [
  {
   "cell_type": "code",
   "execution_count": 26,
   "id": "530b402c",
   "metadata": {},
   "outputs": [],
   "source": [
    "import numpy as np   #for performing mathematical operations, to create arrays and matrices\n",
    "import pandas as pd   # for data manipulation\n",
    "import matplotlib.pyplot as plt   #for interactive visualization\n",
    "import seaborn as sns   #for making statistical graphics in python\n",
    "from sklearn.model_selection import train_test_split   #splits data into training and testing data\n",
    "from sklearn.metrics import accuracy_score   #calculates accuracy score for predicted label"
   ]
  },
  {
   "cell_type": "code",
   "execution_count": 4,
   "id": "4e57b3e7",
   "metadata": {},
   "outputs": [
    {
     "data": {
      "text/html": [
       "<div>\n",
       "<style scoped>\n",
       "    .dataframe tbody tr th:only-of-type {\n",
       "        vertical-align: middle;\n",
       "    }\n",
       "\n",
       "    .dataframe tbody tr th {\n",
       "        vertical-align: top;\n",
       "    }\n",
       "\n",
       "    .dataframe thead th {\n",
       "        text-align: right;\n",
       "    }\n",
       "</style>\n",
       "<table border=\"1\" class=\"dataframe\">\n",
       "  <thead>\n",
       "    <tr style=\"text-align: right;\">\n",
       "      <th></th>\n",
       "      <th>Age</th>\n",
       "      <th>Height</th>\n",
       "      <th>Weight</th>\n",
       "      <th>Bmi</th>\n",
       "      <th>BmiClass</th>\n",
       "    </tr>\n",
       "  </thead>\n",
       "  <tbody>\n",
       "    <tr>\n",
       "      <th>0</th>\n",
       "      <td>61</td>\n",
       "      <td>1.85</td>\n",
       "      <td>109.30</td>\n",
       "      <td>31.935720</td>\n",
       "      <td>Obese Class 1</td>\n",
       "    </tr>\n",
       "    <tr>\n",
       "      <th>1</th>\n",
       "      <td>60</td>\n",
       "      <td>1.71</td>\n",
       "      <td>79.02</td>\n",
       "      <td>27.023700</td>\n",
       "      <td>Overweight</td>\n",
       "    </tr>\n",
       "    <tr>\n",
       "      <th>2</th>\n",
       "      <td>60</td>\n",
       "      <td>1.55</td>\n",
       "      <td>74.70</td>\n",
       "      <td>31.092612</td>\n",
       "      <td>Obese Class 1</td>\n",
       "    </tr>\n",
       "    <tr>\n",
       "      <th>3</th>\n",
       "      <td>60</td>\n",
       "      <td>1.46</td>\n",
       "      <td>35.90</td>\n",
       "      <td>16.841809</td>\n",
       "      <td>Underweight</td>\n",
       "    </tr>\n",
       "    <tr>\n",
       "      <th>4</th>\n",
       "      <td>60</td>\n",
       "      <td>1.58</td>\n",
       "      <td>97.10</td>\n",
       "      <td>38.896010</td>\n",
       "      <td>Obese Class 2</td>\n",
       "    </tr>\n",
       "  </tbody>\n",
       "</table>\n",
       "</div>"
      ],
      "text/plain": [
       "   Age  Height  Weight        Bmi       BmiClass\n",
       "0   61    1.85  109.30  31.935720  Obese Class 1\n",
       "1   60    1.71   79.02  27.023700     Overweight\n",
       "2   60    1.55   74.70  31.092612  Obese Class 1\n",
       "3   60    1.46   35.90  16.841809    Underweight\n",
       "4   60    1.58   97.10  38.896010  Obese Class 2"
      ]
     },
     "execution_count": 4,
     "metadata": {},
     "output_type": "execute_result"
    }
   ],
   "source": [
    "df = pd.read_csv('bmi.csv')   #loading dataset\n",
    "df.head()   #represents first 5 rows"
   ]
  },
  {
   "cell_type": "code",
   "execution_count": 5,
   "id": "d9a7dcea",
   "metadata": {},
   "outputs": [
    {
     "data": {
      "text/html": [
       "<div>\n",
       "<style scoped>\n",
       "    .dataframe tbody tr th:only-of-type {\n",
       "        vertical-align: middle;\n",
       "    }\n",
       "\n",
       "    .dataframe tbody tr th {\n",
       "        vertical-align: top;\n",
       "    }\n",
       "\n",
       "    .dataframe thead th {\n",
       "        text-align: right;\n",
       "    }\n",
       "</style>\n",
       "<table border=\"1\" class=\"dataframe\">\n",
       "  <thead>\n",
       "    <tr style=\"text-align: right;\">\n",
       "      <th></th>\n",
       "      <th>Age</th>\n",
       "      <th>Height</th>\n",
       "      <th>Weight</th>\n",
       "      <th>Bmi</th>\n",
       "    </tr>\n",
       "  </thead>\n",
       "  <tbody>\n",
       "    <tr>\n",
       "      <th>count</th>\n",
       "      <td>741.000000</td>\n",
       "      <td>741.000000</td>\n",
       "      <td>741.000000</td>\n",
       "      <td>741.000000</td>\n",
       "    </tr>\n",
       "    <tr>\n",
       "      <th>mean</th>\n",
       "      <td>31.618084</td>\n",
       "      <td>1.709427</td>\n",
       "      <td>78.412497</td>\n",
       "      <td>26.365427</td>\n",
       "    </tr>\n",
       "    <tr>\n",
       "      <th>std</th>\n",
       "      <td>11.655466</td>\n",
       "      <td>0.085974</td>\n",
       "      <td>32.254547</td>\n",
       "      <td>9.223191</td>\n",
       "    </tr>\n",
       "    <tr>\n",
       "      <th>min</th>\n",
       "      <td>15.000000</td>\n",
       "      <td>1.460000</td>\n",
       "      <td>25.900000</td>\n",
       "      <td>12.150497</td>\n",
       "    </tr>\n",
       "    <tr>\n",
       "      <th>25%</th>\n",
       "      <td>22.000000</td>\n",
       "      <td>1.670000</td>\n",
       "      <td>63.000000</td>\n",
       "      <td>22.129740</td>\n",
       "    </tr>\n",
       "    <tr>\n",
       "      <th>50%</th>\n",
       "      <td>29.000000</td>\n",
       "      <td>1.721000</td>\n",
       "      <td>72.900000</td>\n",
       "      <td>24.132412</td>\n",
       "    </tr>\n",
       "    <tr>\n",
       "      <th>75%</th>\n",
       "      <td>40.000000</td>\n",
       "      <td>1.751000</td>\n",
       "      <td>83.300000</td>\n",
       "      <td>27.249306</td>\n",
       "    </tr>\n",
       "    <tr>\n",
       "      <th>max</th>\n",
       "      <td>61.000000</td>\n",
       "      <td>2.070000</td>\n",
       "      <td>270.000000</td>\n",
       "      <td>66.301350</td>\n",
       "    </tr>\n",
       "  </tbody>\n",
       "</table>\n",
       "</div>"
      ],
      "text/plain": [
       "              Age      Height      Weight         Bmi\n",
       "count  741.000000  741.000000  741.000000  741.000000\n",
       "mean    31.618084    1.709427   78.412497   26.365427\n",
       "std     11.655466    0.085974   32.254547    9.223191\n",
       "min     15.000000    1.460000   25.900000   12.150497\n",
       "25%     22.000000    1.670000   63.000000   22.129740\n",
       "50%     29.000000    1.721000   72.900000   24.132412\n",
       "75%     40.000000    1.751000   83.300000   27.249306\n",
       "max     61.000000    2.070000  270.000000   66.301350"
      ]
     },
     "execution_count": 5,
     "metadata": {},
     "output_type": "execute_result"
    }
   ],
   "source": [
    "df.describe()   #describes the numerical dataset"
   ]
  },
  {
   "cell_type": "code",
   "execution_count": 6,
   "id": "2db4552e",
   "metadata": {},
   "outputs": [
    {
     "name": "stdout",
     "output_type": "stream",
     "text": [
      "<class 'pandas.core.frame.DataFrame'>\n",
      "RangeIndex: 741 entries, 0 to 740\n",
      "Data columns (total 5 columns):\n",
      " #   Column    Non-Null Count  Dtype  \n",
      "---  ------    --------------  -----  \n",
      " 0   Age       741 non-null    int64  \n",
      " 1   Height    741 non-null    float64\n",
      " 2   Weight    741 non-null    float64\n",
      " 3   Bmi       741 non-null    float64\n",
      " 4   BmiClass  741 non-null    object \n",
      "dtypes: float64(3), int64(1), object(1)\n",
      "memory usage: 29.1+ KB\n"
     ]
    }
   ],
   "source": [
    "df.info()   #represents datatype and entries in each column"
   ]
  },
  {
   "cell_type": "code",
   "execution_count": 7,
   "id": "4422589d",
   "metadata": {},
   "outputs": [
    {
     "data": {
      "text/html": [
       "<div>\n",
       "<style scoped>\n",
       "    .dataframe tbody tr th:only-of-type {\n",
       "        vertical-align: middle;\n",
       "    }\n",
       "\n",
       "    .dataframe tbody tr th {\n",
       "        vertical-align: top;\n",
       "    }\n",
       "\n",
       "    .dataframe thead th {\n",
       "        text-align: right;\n",
       "    }\n",
       "</style>\n",
       "<table border=\"1\" class=\"dataframe\">\n",
       "  <thead>\n",
       "    <tr style=\"text-align: right;\">\n",
       "      <th></th>\n",
       "      <th>Age</th>\n",
       "      <th>Height</th>\n",
       "      <th>Weight</th>\n",
       "      <th>Bmi</th>\n",
       "      <th>BmiClass</th>\n",
       "    </tr>\n",
       "  </thead>\n",
       "  <tbody>\n",
       "    <tr>\n",
       "      <th>736</th>\n",
       "      <td>34</td>\n",
       "      <td>1.86</td>\n",
       "      <td>95.7</td>\n",
       "      <td>27.662157</td>\n",
       "      <td>Overweight</td>\n",
       "    </tr>\n",
       "    <tr>\n",
       "      <th>737</th>\n",
       "      <td>44</td>\n",
       "      <td>1.91</td>\n",
       "      <td>106.9</td>\n",
       "      <td>29.302925</td>\n",
       "      <td>Overweight</td>\n",
       "    </tr>\n",
       "    <tr>\n",
       "      <th>738</th>\n",
       "      <td>25</td>\n",
       "      <td>1.82</td>\n",
       "      <td>88.4</td>\n",
       "      <td>26.687598</td>\n",
       "      <td>Overweight</td>\n",
       "    </tr>\n",
       "    <tr>\n",
       "      <th>739</th>\n",
       "      <td>35</td>\n",
       "      <td>1.88</td>\n",
       "      <td>98.5</td>\n",
       "      <td>27.868945</td>\n",
       "      <td>Overweight</td>\n",
       "    </tr>\n",
       "    <tr>\n",
       "      <th>740</th>\n",
       "      <td>45</td>\n",
       "      <td>1.93</td>\n",
       "      <td>109.9</td>\n",
       "      <td>29.504148</td>\n",
       "      <td>Overweight</td>\n",
       "    </tr>\n",
       "  </tbody>\n",
       "</table>\n",
       "</div>"
      ],
      "text/plain": [
       "     Age  Height  Weight        Bmi    BmiClass\n",
       "736   34    1.86    95.7  27.662157  Overweight\n",
       "737   44    1.91   106.9  29.302925  Overweight\n",
       "738   25    1.82    88.4  26.687598  Overweight\n",
       "739   35    1.88    98.5  27.868945  Overweight\n",
       "740   45    1.93   109.9  29.504148  Overweight"
      ]
     },
     "execution_count": 7,
     "metadata": {},
     "output_type": "execute_result"
    }
   ],
   "source": [
    "df.tail()   #represents last 5 rows of dataset"
   ]
  },
  {
   "cell_type": "code",
   "execution_count": 8,
   "id": "5fcb70f6",
   "metadata": {},
   "outputs": [
    {
     "data": {
      "text/plain": [
       "Age         0\n",
       "Height      0\n",
       "Weight      0\n",
       "Bmi         0\n",
       "BmiClass    0\n",
       "dtype: int64"
      ]
     },
     "execution_count": 8,
     "metadata": {},
     "output_type": "execute_result"
    }
   ],
   "source": [
    "df.isnull().sum()   #isnull shows null values and sum makes total of missing values in each column"
   ]
  },
  {
   "cell_type": "code",
   "execution_count": 9,
   "id": "40026a11",
   "metadata": {},
   "outputs": [
    {
     "data": {
      "text/plain": [
       "<seaborn.axisgrid.FacetGrid at 0x1cb6dfec340>"
      ]
     },
     "execution_count": 9,
     "metadata": {},
     "output_type": "execute_result"
    },
    {
     "data": {
      "image/png": "[encoded data removed]",
      "text/plain": [
       "<Figure size 360x360 with 1 Axes>"
      ]
     },
     "metadata": {
      "needs_background": "light"
     },
     "output_type": "display_data"
    }
   ],
   "source": [
    "sns.displot(df['Age'],kde=True)   #represents overall distrubution of continous data variables"
   ]
  },
  {
   "cell_type": "code",
   "execution_count": 10,
   "id": "b4899eba",
   "metadata": {},
   "outputs": [
    {
     "data": {
      "text/plain": [
       "1.7094272604588434"
      ]
     },
     "execution_count": 10,
     "metadata": {},
     "output_type": "execute_result"
    }
   ],
   "source": [
    "df['Height'].mean()   #calculates mean for height column"
   ]
  },
  {
   "cell_type": "code",
   "execution_count": 11,
   "id": "9773d2e6",
   "metadata": {},
   "outputs": [
    {
     "data": {
      "text/plain": [
       "<AxesSubplot:>"
      ]
     },
     "execution_count": 11,
     "metadata": {},
     "output_type": "execute_result"
    },
    {
     "data": {
      "image/png": "[encoded data removed]",
      "text/plain": [
       "<Figure size 432x288 with 1 Axes>"
      ]
     },
     "metadata": {
      "needs_background": "light"
     },
     "output_type": "display_data"
    }
   ],
   "source": [
    "df['Height'].value_counts().head(10).plot(kind='bar')   #plots bar graph  for different heights in first 10 rows"
   ]
  },
  {
   "cell_type": "code",
   "execution_count": 12,
   "id": "ce0b0a59",
   "metadata": {},
   "outputs": [
    {
     "data": {
      "text/plain": [
       "<AxesSubplot:ylabel='BmiClass'>"
      ]
     },
     "execution_count": 12,
     "metadata": {},
     "output_type": "execute_result"
    },
    {
     "data": {
      "image/png": "[encoded data removed]",
      "text/plain": [
       "<Figure size 432x288 with 1 Axes>"
      ]
     },
     "metadata": {},
     "output_type": "display_data"
    }
   ],
   "source": [
    "df['BmiClass'].value_counts().plot(kind='pie')   #plots pie no of values of each bmi class"
   ]
  },
  {
   "cell_type": "code",
   "execution_count": 13,
   "id": "18337144",
   "metadata": {},
   "outputs": [
    {
     "data": {
      "text/plain": [
       "Normal Weight    342\n",
       "Overweight       166\n",
       "Underweight       96\n",
       "Obese Class 3     62\n",
       "Obese Class 2     55\n",
       "Obese Class 1     20\n",
       "Name: BmiClass, dtype: int64"
      ]
     },
     "execution_count": 13,
     "metadata": {},
     "output_type": "execute_result"
    }
   ],
   "source": [
    "df['BmiClass'].value_counts()   #counts no. of values for each bmi class"
   ]
  },
  {
   "cell_type": "code",
   "execution_count": 14,
   "id": "65b608e9",
   "metadata": {},
   "outputs": [
    {
     "data": {
      "text/plain": [
       "<AxesSubplot:>"
      ]
     },
     "execution_count": 14,
     "metadata": {},
     "output_type": "execute_result"
    },
    {
     "data": {
      "image/png": "[encoded data removed]",
      "text/plain": [
       "<Figure size 432x288 with 1 Axes>"
      ]
     },
     "metadata": {
      "needs_background": "light"
     },
     "output_type": "display_data"
    }
   ],
   "source": [
    "df['BmiClass'].value_counts().plot(kind='bar')   #plots bar graph for no. of values of each bmi class "
   ]
  },
  {
   "cell_type": "code",
   "execution_count": 15,
   "id": "2d5c98ab",
   "metadata": {},
   "outputs": [
    {
     "data": {
      "text/html": [
       "<div>\n",
       "<style scoped>\n",
       "    .dataframe tbody tr th:only-of-type {\n",
       "        vertical-align: middle;\n",
       "    }\n",
       "\n",
       "    .dataframe tbody tr th {\n",
       "        vertical-align: top;\n",
       "    }\n",
       "\n",
       "    .dataframe thead th {\n",
       "        text-align: right;\n",
       "    }\n",
       "</style>\n",
       "<table border=\"1\" class=\"dataframe\">\n",
       "  <thead>\n",
       "    <tr style=\"text-align: right;\">\n",
       "      <th></th>\n",
       "      <th>Age</th>\n",
       "      <th>Height</th>\n",
       "      <th>Weight</th>\n",
       "      <th>Bmi</th>\n",
       "      <th>BmiClass</th>\n",
       "    </tr>\n",
       "  </thead>\n",
       "  <tbody>\n",
       "    <tr>\n",
       "      <th>0</th>\n",
       "      <td>61</td>\n",
       "      <td>1.85</td>\n",
       "      <td>109.30</td>\n",
       "      <td>31.935720</td>\n",
       "      <td>Obese Class 1</td>\n",
       "    </tr>\n",
       "    <tr>\n",
       "      <th>1</th>\n",
       "      <td>60</td>\n",
       "      <td>1.71</td>\n",
       "      <td>79.02</td>\n",
       "      <td>27.023700</td>\n",
       "      <td>Overweight</td>\n",
       "    </tr>\n",
       "    <tr>\n",
       "      <th>2</th>\n",
       "      <td>60</td>\n",
       "      <td>1.55</td>\n",
       "      <td>74.70</td>\n",
       "      <td>31.092612</td>\n",
       "      <td>Obese Class 1</td>\n",
       "    </tr>\n",
       "    <tr>\n",
       "      <th>3</th>\n",
       "      <td>60</td>\n",
       "      <td>1.46</td>\n",
       "      <td>35.90</td>\n",
       "      <td>16.841809</td>\n",
       "      <td>Underweight</td>\n",
       "    </tr>\n",
       "    <tr>\n",
       "      <th>4</th>\n",
       "      <td>60</td>\n",
       "      <td>1.58</td>\n",
       "      <td>97.10</td>\n",
       "      <td>38.896010</td>\n",
       "      <td>Obese Class 2</td>\n",
       "    </tr>\n",
       "    <tr>\n",
       "      <th>...</th>\n",
       "      <td>...</td>\n",
       "      <td>...</td>\n",
       "      <td>...</td>\n",
       "      <td>...</td>\n",
       "      <td>...</td>\n",
       "    </tr>\n",
       "    <tr>\n",
       "      <th>736</th>\n",
       "      <td>34</td>\n",
       "      <td>1.86</td>\n",
       "      <td>95.70</td>\n",
       "      <td>27.662157</td>\n",
       "      <td>Overweight</td>\n",
       "    </tr>\n",
       "    <tr>\n",
       "      <th>737</th>\n",
       "      <td>44</td>\n",
       "      <td>1.91</td>\n",
       "      <td>106.90</td>\n",
       "      <td>29.302925</td>\n",
       "      <td>Overweight</td>\n",
       "    </tr>\n",
       "    <tr>\n",
       "      <th>738</th>\n",
       "      <td>25</td>\n",
       "      <td>1.82</td>\n",
       "      <td>88.40</td>\n",
       "      <td>26.687598</td>\n",
       "      <td>Overweight</td>\n",
       "    </tr>\n",
       "    <tr>\n",
       "      <th>739</th>\n",
       "      <td>35</td>\n",
       "      <td>1.88</td>\n",
       "      <td>98.50</td>\n",
       "      <td>27.868945</td>\n",
       "      <td>Overweight</td>\n",
       "    </tr>\n",
       "    <tr>\n",
       "      <th>740</th>\n",
       "      <td>45</td>\n",
       "      <td>1.93</td>\n",
       "      <td>109.90</td>\n",
       "      <td>29.504148</td>\n",
       "      <td>Overweight</td>\n",
       "    </tr>\n",
       "  </tbody>\n",
       "</table>\n",
       "<p>741 rows × 5 columns</p>\n",
       "</div>"
      ],
      "text/plain": [
       "     Age  Height  Weight        Bmi       BmiClass\n",
       "0     61    1.85  109.30  31.935720  Obese Class 1\n",
       "1     60    1.71   79.02  27.023700     Overweight\n",
       "2     60    1.55   74.70  31.092612  Obese Class 1\n",
       "3     60    1.46   35.90  16.841809    Underweight\n",
       "4     60    1.58   97.10  38.896010  Obese Class 2\n",
       "..   ...     ...     ...        ...            ...\n",
       "736   34    1.86   95.70  27.662157     Overweight\n",
       "737   44    1.91  106.90  29.302925     Overweight\n",
       "738   25    1.82   88.40  26.687598     Overweight\n",
       "739   35    1.88   98.50  27.868945     Overweight\n",
       "740   45    1.93  109.90  29.504148     Overweight\n",
       "\n",
       "[741 rows x 5 columns]"
      ]
     },
     "execution_count": 15,
     "metadata": {},
     "output_type": "execute_result"
    }
   ],
   "source": [
    "from sklearn.neighbors import KNeighborsClassifier   #import kneighbors classifer\n",
    "from sklearn.tree import DecisionTreeClassifier   #import decision tree classifier\n",
    "\n",
    "kn = KNeighborsClassifier()\n",
    "import pandas as pd\n",
    "bmiDataFrame = pd.read_csv('bmi.csv')\n",
    "bmiDataFrame"
   ]
  },
  {
   "cell_type": "code",
   "execution_count": 16,
   "id": "a458fd6d",
   "metadata": {},
   "outputs": [
    {
     "data": {
      "text/plain": [
       "Age         0\n",
       "Height      0\n",
       "Weight      0\n",
       "Bmi         0\n",
       "BmiClass    0\n",
       "dtype: int64"
      ]
     },
     "execution_count": 16,
     "metadata": {},
     "output_type": "execute_result"
    }
   ],
   "source": [
    "bmiDataFrame.isnull().sum()   #isnull shows null values and sum makes total of missing values in each column"
   ]
  },
  {
   "cell_type": "code",
   "execution_count": 17,
   "id": "9a69c131",
   "metadata": {},
   "outputs": [],
   "source": [
    "bmi = bmiDataFrame.values   #returns values in bmidataframe\n",
    "\n",
    "X = bmi[:,0:4]   #contains first 4 columns and all rows\n",
    "Y = bmi[:,-1]   #contains last column and all rows"
   ]
  },
  {
   "cell_type": "code",
   "execution_count": 18,
   "id": "f773e70c",
   "metadata": {},
   "outputs": [
    {
     "name": "stdout",
     "output_type": "stream",
     "text": [
      "[[61 1.85 109.3 31.935719503287068]\n",
      " [60 1.71 79.02 27.02369959987689]\n",
      " [60 1.55 74.7 31.09261186264308]\n",
      " ...\n",
      " [25 1.82 88.4 26.687598116169543]\n",
      " [35 1.88 98.5 27.868945224083298]\n",
      " [45 1.93 109.9 29.50414776235604]]\n"
     ]
    }
   ],
   "source": [
    "print(X)"
   ]
  },
  {
   "cell_type": "code",
   "execution_count": 19,
   "id": "9421cafd",
   "metadata": {},
   "outputs": [
    {
     "name": "stdout",
     "output_type": "stream",
     "text": [
      "['Obese Class 1' 'Overweight' 'Obese Class 1' 'Underweight'\n",
      " 'Obese Class 2' 'Overweight' 'Overweight' 'Overweight' 'Underweight'\n",
      " 'Obese Class 1' 'Overweight' 'Overweight' 'Overweight' 'Underweight'\n",
      " 'Overweight' 'Overweight' 'Overweight' 'Obese Class 2' 'Obese Class 1'\n",
      " 'Underweight' 'Obese Class 2' 'Overweight' 'Overweight' 'Overweight'\n",
      " 'Overweight' 'Underweight' 'Obese Class 1' 'Obese Class 2' 'Overweight'\n",
      " 'Overweight' 'Overweight' 'Obese Class 1' 'Obese Class 3' 'Underweight'\n",
      " 'Overweight' 'Overweight' 'Obese Class 1' 'Underweight' 'Obese Class 2'\n",
      " 'Overweight' 'Overweight' 'Underweight' 'Obese Class 2' 'Overweight'\n",
      " 'Overweight' 'Overweight' 'Underweight' 'Obese Class 2' 'Overweight'\n",
      " 'Overweight' 'Overweight' 'Underweight' 'Overweight' 'Obese Class 2'\n",
      " 'Overweight' 'Overweight' 'Overweight' 'Obese Class 3' 'Underweight'\n",
      " 'Overweight' 'Underweight' 'Obese Class 1' 'Obese Class 3' 'Overweight'\n",
      " 'Overweight' 'Overweight' 'Overweight' 'Underweight' 'Overweight'\n",
      " 'Underweight' 'Obese Class 2' 'Overweight' 'Normal Weight' 'Overweight'\n",
      " 'Obese Class 2' 'Underweight' 'Overweight' 'Underweight' 'Obese Class 2'\n",
      " 'Overweight' 'Normal Weight' 'Overweight' 'Underweight' 'Overweight'\n",
      " 'Underweight' 'Obese Class 1' 'Obese Class 2' 'Overweight'\n",
      " 'Normal Weight' 'Overweight' 'Normal Weight' 'Overweight' 'Underweight'\n",
      " 'Obese Class 2' 'Overweight' 'Normal Weight' 'Overweight' 'Obese Class 3'\n",
      " 'Normal Weight' 'Overweight' 'Underweight' 'Overweight' 'Obese Class 2'\n",
      " 'Overweight' 'Normal Weight' 'Overweight' 'Normal Weight' 'Overweight'\n",
      " 'Underweight' 'Overweight' 'Obese Class 2' 'Overweight' 'Normal Weight'\n",
      " 'Overweight' 'Normal Weight' 'Overweight' 'Underweight' 'Obese Class 2'\n",
      " 'Overweight' 'Normal Weight' 'Overweight' 'Obese Class 1' 'Normal Weight'\n",
      " 'Normal Weight' 'Underweight' 'Overweight' 'Obese Class 2' 'Overweight'\n",
      " 'Normal Weight' 'Overweight' 'Normal Weight' 'Overweight' 'Underweight'\n",
      " 'Obese Class 2' 'Overweight' 'Normal Weight' 'Overweight' 'Normal Weight'\n",
      " 'Obese Class 2' 'Normal Weight' 'Overweight' 'Underweight'\n",
      " 'Obese Class 2' 'Overweight' 'Normal Weight' 'Overweight' 'Normal Weight'\n",
      " 'Normal Weight' 'Overweight' 'Underweight' 'Overweight' 'Obese Class 2'\n",
      " 'Overweight' 'Normal Weight' 'Overweight' 'Normal Weight' 'Overweight'\n",
      " 'Normal Weight' 'Overweight' 'Underweight' 'Overweight' 'Obese Class 2'\n",
      " 'Overweight' 'Normal Weight' 'Overweight' 'Normal Weight' 'Overweight'\n",
      " 'Underweight' 'Overweight' 'Underweight' 'Obese Class 2' 'Overweight'\n",
      " 'Normal Weight' 'Overweight' 'Normal Weight' 'Overweight' 'Underweight'\n",
      " 'Normal Weight' 'Normal Weight' 'Underweight' 'Obese Class 2'\n",
      " 'Overweight' 'Normal Weight' 'Overweight' 'Normal Weight' 'Overweight'\n",
      " 'Overweight' 'Underweight' 'Normal Weight' 'Normal Weight'\n",
      " 'Normal Weight' 'Underweight' 'Overweight' 'Obese Class 1' 'Overweight'\n",
      " 'Normal Weight' 'Overweight' 'Normal Weight' 'Overweight' 'Underweight'\n",
      " 'Normal Weight' 'Normal Weight' 'Normal Weight' 'Normal Weight'\n",
      " 'Normal Weight' 'Underweight' 'Overweight' 'Obese Class 2' 'Overweight'\n",
      " 'Normal Weight' 'Overweight' 'Normal Weight' 'Overweight' 'Underweight'\n",
      " 'Normal Weight' 'Normal Weight' 'Normal Weight' 'Normal Weight'\n",
      " 'Underweight' 'Overweight' 'Obese Class 2' 'Overweight' 'Normal Weight'\n",
      " 'Overweight' 'Normal Weight' 'Obese Class 3' 'Underweight'\n",
      " 'Normal Weight' 'Normal Weight' 'Normal Weight' 'Normal Weight'\n",
      " 'Normal Weight' 'Normal Weight' 'Underweight' 'Overweight'\n",
      " 'Obese Class 2' 'Overweight' 'Normal Weight' 'Overweight' 'Normal Weight'\n",
      " 'Overweight' 'Underweight' 'Normal Weight' 'Normal Weight'\n",
      " 'Normal Weight' 'Normal Weight' 'Normal Weight' 'Overweight'\n",
      " 'Underweight' 'Overweight' 'Obese Class 2' 'Overweight' 'Normal Weight'\n",
      " 'Overweight' 'Normal Weight' 'Overweight' 'Obese Class 1' 'Obese Class 3'\n",
      " 'Obese Class 3' 'Obese Class 3' 'Normal Weight' 'Normal Weight'\n",
      " 'Normal Weight' 'Normal Weight' 'Normal Weight' 'Overweight' 'Overweight'\n",
      " 'Normal Weight' 'Underweight' 'Overweight' 'Obese Class 2'\n",
      " 'Normal Weight' 'Normal Weight' 'Normal Weight' 'Normal Weight'\n",
      " 'Normal Weight' 'Obese Class 3' 'Obese Class 3' 'Obese Class 3'\n",
      " 'Normal Weight' 'Normal Weight' 'Normal Weight' 'Normal Weight'\n",
      " 'Normal Weight' 'Overweight' 'Overweight' 'Normal Weight' 'Underweight'\n",
      " 'Overweight' 'Obese Class 2' 'Normal Weight' 'Normal Weight'\n",
      " 'Normal Weight' 'Normal Weight' 'Normal Weight' 'Normal Weight'\n",
      " 'Obese Class 3' 'Obese Class 3' 'Obese Class 3' 'Normal Weight'\n",
      " 'Normal Weight' 'Normal Weight' 'Normal Weight' 'Normal Weight'\n",
      " 'Normal Weight' 'Overweight' 'Overweight' 'Normal Weight' 'Underweight'\n",
      " 'Overweight' 'Obese Class 2' 'Normal Weight' 'Normal Weight'\n",
      " 'Normal Weight' 'Normal Weight' 'Normal Weight' 'Obese Class 3'\n",
      " 'Obese Class 3' 'Obese Class 3' 'Normal Weight' 'Normal Weight'\n",
      " 'Normal Weight' 'Normal Weight' 'Normal Weight' 'Overweight' 'Overweight'\n",
      " 'Normal Weight' 'Underweight' 'Overweight' 'Obese Class 2'\n",
      " 'Normal Weight' 'Normal Weight' 'Normal Weight' 'Normal Weight'\n",
      " 'Normal Weight' 'Obese Class 3' 'Obese Class 3' 'Obese Class 3'\n",
      " 'Normal Weight' 'Normal Weight' 'Normal Weight' 'Normal Weight'\n",
      " 'Normal Weight' 'Overweight' 'Overweight' 'Normal Weight' 'Underweight'\n",
      " 'Overweight' 'Obese Class 2' 'Normal Weight' 'Normal Weight'\n",
      " 'Normal Weight' 'Normal Weight' 'Normal Weight' 'Obese Class 3'\n",
      " 'Obese Class 3' 'Obese Class 3' 'Normal Weight' 'Normal Weight'\n",
      " 'Normal Weight' 'Normal Weight' 'Normal Weight' 'Normal Weight'\n",
      " 'Normal Weight' 'Normal Weight' 'Overweight' 'Overweight' 'Normal Weight'\n",
      " 'Underweight' 'Overweight' 'Obese Class 1' 'Normal Weight'\n",
      " 'Normal Weight' 'Normal Weight' 'Normal Weight' 'Normal Weight'\n",
      " 'Obese Class 3' 'Obese Class 3' 'Obese Class 3' 'Normal Weight'\n",
      " 'Normal Weight' 'Normal Weight' 'Normal Weight' 'Normal Weight'\n",
      " 'Normal Weight' 'Normal Weight' 'Normal Weight' 'Normal Weight'\n",
      " 'Underweight' 'Overweight' 'Obese Class 2' 'Normal Weight'\n",
      " 'Normal Weight' 'Normal Weight' 'Normal Weight' 'Normal Weight'\n",
      " 'Obese Class 3' 'Obese Class 3' 'Obese Class 3' 'Normal Weight'\n",
      " 'Normal Weight' 'Normal Weight' 'Normal Weight' 'Normal Weight'\n",
      " 'Normal Weight' 'Normal Weight' 'Underweight' 'Overweight'\n",
      " 'Normal Weight' 'Normal Weight' 'Normal Weight' 'Normal Weight'\n",
      " 'Normal Weight' 'Normal Weight' 'Normal Weight' 'Obese Class 2'\n",
      " 'Obese Class 3' 'Obese Class 3' 'Obese Class 3' 'Normal Weight'\n",
      " 'Normal Weight' 'Normal Weight' 'Normal Weight' 'Normal Weight'\n",
      " 'Normal Weight' 'Normal Weight' 'Normal Weight' 'Normal Weight'\n",
      " 'Normal Weight' 'Overweight' 'Obese Class 2' 'Normal Weight'\n",
      " 'Normal Weight' 'Normal Weight' 'Normal Weight' 'Normal Weight'\n",
      " 'Normal Weight' 'Normal Weight' 'Obese Class 2' 'Obese Class 2'\n",
      " 'Obese Class 3' 'Obese Class 3' 'Underweight' 'Normal Weight'\n",
      " 'Normal Weight' 'Normal Weight' 'Normal Weight' 'Normal Weight'\n",
      " 'Normal Weight' 'Normal Weight' 'Normal Weight' 'Underweight'\n",
      " 'Underweight' 'Overweight' 'Normal Weight' 'Normal Weight'\n",
      " 'Normal Weight' 'Normal Weight' 'Normal Weight' 'Normal Weight'\n",
      " 'Normal Weight' 'Obese Class 2' 'Obese Class 2' 'Obese Class 2'\n",
      " 'Obese Class 3' 'Underweight' 'Normal Weight' 'Normal Weight'\n",
      " 'Normal Weight' 'Normal Weight' 'Normal Weight' 'Normal Weight'\n",
      " 'Normal Weight' 'Underweight' 'Underweight' 'Underweight' 'Underweight'\n",
      " 'Underweight' 'Underweight' 'Underweight' 'Underweight' 'Overweight'\n",
      " 'Normal Weight' 'Normal Weight' 'Normal Weight' 'Normal Weight'\n",
      " 'Normal Weight' 'Normal Weight' 'Normal Weight' 'Obese Class 1'\n",
      " 'Obese Class 1' 'Obese Class 2' 'Obese Class 3' 'Underweight'\n",
      " 'Normal Weight' 'Normal Weight' 'Normal Weight' 'Normal Weight'\n",
      " 'Normal Weight' 'Normal Weight' 'Normal Weight' 'Underweight'\n",
      " 'Underweight' 'Underweight' 'Underweight' 'Underweight' 'Underweight'\n",
      " 'Underweight' 'Underweight' 'Overweight' 'Normal Weight' 'Normal Weight'\n",
      " 'Normal Weight' 'Normal Weight' 'Normal Weight' 'Normal Weight'\n",
      " 'Normal Weight' 'Overweight' 'Obese Class 1' 'Obese Class 2'\n",
      " 'Obese Class 2' 'Obese Class 3' 'Underweight' 'Normal Weight'\n",
      " 'Normal Weight' 'Normal Weight' 'Normal Weight' 'Normal Weight'\n",
      " 'Normal Weight' 'Normal Weight' 'Underweight' 'Underweight' 'Underweight'\n",
      " 'Underweight' 'Underweight' 'Underweight' 'Underweight' 'Underweight'\n",
      " 'Overweight' 'Obese Class 1' 'Obese Class 2' 'Obese Class 2'\n",
      " 'Obese Class 3' 'Underweight' 'Normal Weight' 'Normal Weight'\n",
      " 'Normal Weight' 'Normal Weight' 'Normal Weight' 'Normal Weight'\n",
      " 'Normal Weight' 'Underweight' 'Underweight' 'Underweight' 'Underweight'\n",
      " 'Underweight' 'Underweight' 'Underweight' 'Obese Class 2' 'Obese Class 2'\n",
      " 'Obese Class 2' 'Obese Class 3' 'Underweight' 'Normal Weight'\n",
      " 'Normal Weight' 'Normal Weight' 'Normal Weight' 'Normal Weight'\n",
      " 'Normal Weight' 'Normal Weight' 'Underweight' 'Underweight' 'Underweight'\n",
      " 'Underweight' 'Underweight' 'Underweight' 'Underweight' 'Obese Class 2'\n",
      " 'Obese Class 1' 'Obese Class 2' 'Obese Class 3' 'Underweight'\n",
      " 'Normal Weight' 'Normal Weight' 'Normal Weight' 'Normal Weight'\n",
      " 'Normal Weight' 'Normal Weight' 'Normal Weight' 'Obese Class 2'\n",
      " 'Obese Class 3' 'Obese Class 3' 'Obese Class 2' 'Obese Class 3'\n",
      " 'Obese Class 3' 'Obese Class 3' 'Obese Class 3' 'Obese Class 3'\n",
      " 'Obese Class 3' 'Obese Class 3' 'Obese Class 3' 'Obese Class 2'\n",
      " 'Obese Class 3' 'Obese Class 3' 'Obese Class 3' 'Obese Class 3'\n",
      " 'Obese Class 3' 'Obese Class 3' 'Obese Class 3' 'Obese Class 3'\n",
      " 'Obese Class 2' 'Obese Class 3' 'Obese Class 3' 'Obese Class 3'\n",
      " 'Obese Class 3' 'Normal Weight' 'Normal Weight' 'Normal Weight'\n",
      " 'Normal Weight' 'Overweight' 'Overweight' 'Normal Weight' 'Normal Weight'\n",
      " 'Normal Weight' 'Normal Weight' 'Normal Weight' 'Normal Weight'\n",
      " 'Normal Weight' 'Normal Weight' 'Normal Weight' 'Normal Weight'\n",
      " 'Normal Weight' 'Overweight' 'Normal Weight' 'Normal Weight'\n",
      " 'Normal Weight' 'Overweight' 'Normal Weight' 'Normal Weight'\n",
      " 'Normal Weight' 'Normal Weight' 'Normal Weight' 'Normal Weight'\n",
      " 'Normal Weight' 'Normal Weight' 'Normal Weight' 'Normal Weight'\n",
      " 'Normal Weight' 'Normal Weight' 'Normal Weight' 'Normal Weight'\n",
      " 'Normal Weight' 'Normal Weight' 'Normal Weight' 'Normal Weight'\n",
      " 'Normal Weight' 'Normal Weight' 'Normal Weight' 'Normal Weight'\n",
      " 'Normal Weight' 'Normal Weight' 'Normal Weight' 'Normal Weight'\n",
      " 'Normal Weight' 'Normal Weight' 'Normal Weight' 'Normal Weight'\n",
      " 'Normal Weight' 'Normal Weight' 'Normal Weight' 'Normal Weight'\n",
      " 'Normal Weight' 'Normal Weight' 'Normal Weight' 'Normal Weight'\n",
      " 'Normal Weight' 'Normal Weight' 'Normal Weight' 'Normal Weight'\n",
      " 'Normal Weight' 'Normal Weight' 'Normal Weight' 'Normal Weight'\n",
      " 'Normal Weight' 'Normal Weight' 'Normal Weight' 'Normal Weight'\n",
      " 'Normal Weight' 'Normal Weight' 'Normal Weight' 'Normal Weight'\n",
      " 'Normal Weight' 'Normal Weight' 'Normal Weight' 'Normal Weight'\n",
      " 'Normal Weight' 'Normal Weight' 'Normal Weight' 'Normal Weight'\n",
      " 'Normal Weight' 'Normal Weight' 'Normal Weight' 'Normal Weight'\n",
      " 'Normal Weight' 'Normal Weight' 'Normal Weight' 'Normal Weight'\n",
      " 'Overweight' 'Overweight' 'Overweight' 'Normal Weight' 'Overweight'\n",
      " 'Overweight' 'Overweight' 'Normal Weight' 'Overweight' 'Overweight'\n",
      " 'Overweight' 'Overweight' 'Overweight' 'Overweight' 'Obese Class 1'\n",
      " 'Overweight' 'Overweight' 'Overweight' 'Obese Class 1' 'Overweight'\n",
      " 'Overweight' 'Overweight' 'Overweight' 'Overweight' 'Overweight'\n",
      " 'Overweight' 'Overweight' 'Overweight' 'Overweight' 'Overweight'\n",
      " 'Overweight' 'Overweight' 'Overweight' 'Overweight']\n"
     ]
    }
   ],
   "source": [
    "print(Y)"
   ]
  },
  {
   "cell_type": "code",
   "execution_count": 25,
   "id": "cfa30781",
   "metadata": {},
   "outputs": [],
   "source": [
    "dtc = DecisionTreeClassifier()\n",
    "knc = KNeighborsClassifier()\n",
    "X_train, X_test,Y_train, Y_test = train_test_split(X,Y,test_size = 0.2,stratify = Y,random_state = 2)\n",
    "knc = knc.fit(X_train,Y_train)   #fitting model in KNeighborsClassifier"
   ]
  },
  {
   "cell_type": "code",
   "execution_count": 26,
   "id": "36f94acd",
   "metadata": {},
   "outputs": [
    {
     "data": {
      "text/plain": [
       "array(['Normal Weight'], dtype=object)"
      ]
     },
     "execution_count": 26,
     "metadata": {},
     "output_type": "execute_result"
    }
   ],
   "source": [
    "knc.predict([[25,1.69,70,26.33]])"
   ]
  },
  {
   "cell_type": "code",
   "execution_count": 28,
   "id": "7e6869e4",
   "metadata": {},
   "outputs": [
    {
     "name": "stderr",
     "output_type": "stream",
     "text": [
      "C:\\Users\\Dell\\anaconda3\\anaconda\\lib\\site-packages\\sklearn\\linear_model\\_logistic.py:763: ConvergenceWarning: lbfgs failed to converge (status=1):\n",
      "STOP: TOTAL NO. of ITERATIONS REACHED LIMIT.\n",
      "\n",
      "Increase the number of iterations (max_iter) or scale the data as shown in:\n",
      "    https://scikit-learn.org/stable/modules/preprocessing.html\n",
      "Please also refer to the documentation for alternative solver options:\n",
      "    https://scikit-learn.org/stable/modules/linear_model.html#logistic-regression\n",
      "  n_iter_i = _check_optimize_result(\n"
     ]
    },
    {
     "data": {
      "text/plain": [
       "array(['Overweight', 'Obese Class 3', 'Normal Weight', 'Underweight',\n",
       "       'Normal Weight', 'Overweight', 'Normal Weight', 'Normal Weight',\n",
       "       'Normal Weight', 'Normal Weight', 'Normal Weight', 'Underweight',\n",
       "       'Normal Weight', 'Underweight', 'Normal Weight', 'Normal Weight',\n",
       "       'Underweight', 'Underweight', 'Obese Class 2', 'Normal Weight',\n",
       "       'Normal Weight', 'Normal Weight', 'Normal Weight', 'Normal Weight',\n",
       "       'Obese Class 3', 'Normal Weight', 'Normal Weight', 'Overweight',\n",
       "       'Normal Weight', 'Normal Weight', 'Normal Weight', 'Obese Class 2',\n",
       "       'Overweight', 'Obese Class 3', 'Normal Weight', 'Normal Weight',\n",
       "       'Underweight', 'Normal Weight', 'Normal Weight', 'Normal Weight',\n",
       "       'Obese Class 3', 'Normal Weight', 'Overweight', 'Underweight',\n",
       "       'Overweight', 'Normal Weight', 'Normal Weight', 'Normal Weight',\n",
       "       'Normal Weight', 'Normal Weight', 'Normal Weight', 'Normal Weight',\n",
       "       'Normal Weight', 'Underweight', 'Normal Weight', 'Obese Class 3',\n",
       "       'Overweight', 'Normal Weight', 'Normal Weight', 'Normal Weight',\n",
       "       'Normal Weight', 'Obese Class 3', 'Underweight', 'Normal Weight',\n",
       "       'Normal Weight', 'Normal Weight', 'Underweight', 'Normal Weight',\n",
       "       'Underweight', 'Normal Weight', 'Underweight', 'Normal Weight',\n",
       "       'Normal Weight', 'Obese Class 3', 'Normal Weight', 'Normal Weight',\n",
       "       'Normal Weight', 'Normal Weight', 'Normal Weight', 'Overweight',\n",
       "       'Normal Weight', 'Normal Weight', 'Normal Weight', 'Obese Class 3',\n",
       "       'Normal Weight', 'Normal Weight', 'Normal Weight', 'Normal Weight',\n",
       "       'Obese Class 3', 'Overweight', 'Normal Weight', 'Normal Weight',\n",
       "       'Overweight', 'Underweight', 'Underweight', 'Normal Weight',\n",
       "       'Normal Weight', 'Obese Class 3', 'Normal Weight', 'Underweight',\n",
       "       'Normal Weight', 'Normal Weight', 'Underweight', 'Normal Weight',\n",
       "       'Normal Weight', 'Normal Weight', 'Underweight', 'Overweight',\n",
       "       'Normal Weight', 'Normal Weight', 'Normal Weight', 'Normal Weight',\n",
       "       'Normal Weight', 'Normal Weight', 'Normal Weight', 'Normal Weight',\n",
       "       'Normal Weight', 'Overweight', 'Normal Weight', 'Obese Class 3',\n",
       "       'Underweight', 'Normal Weight', 'Underweight', 'Normal Weight',\n",
       "       'Normal Weight', 'Normal Weight', 'Overweight', 'Overweight',\n",
       "       'Overweight', 'Overweight', 'Normal Weight', 'Obese Class 3',\n",
       "       'Overweight', 'Normal Weight', 'Normal Weight', 'Overweight',\n",
       "       'Normal Weight', 'Underweight', 'Normal Weight', 'Overweight',\n",
       "       'Overweight', 'Normal Weight', 'Normal Weight', 'Normal Weight',\n",
       "       'Normal Weight', 'Underweight', 'Normal Weight', 'Normal Weight',\n",
       "       'Normal Weight'], dtype=object)"
      ]
     },
     "execution_count": 28,
     "metadata": {},
     "output_type": "execute_result"
    }
   ],
   "source": [
    "from sklearn import model_selection\n",
    "from sklearn.linear_model import LogisticRegression\n",
    "from sklearn.linear_model import LinearRegression\n",
    "\n",
    "validation_size = 0.2\n",
    "seed = 5\n",
    "X_train, X_test, Y_train, Y_test = model_selection.train_test_split(X,Y,test_size=validation_size,random_state=seed)\n",
    "\n",
    "lr = LogisticRegression()\n",
    "\n",
    "lr = lr.fit(X_train,Y_train)\n",
    "\n",
    "pred = lr.predict(X_test)\n",
    "pred"
   ]
  },
  {
   "cell_type": "code",
   "execution_count": 30,
   "id": "d45f2c5b",
   "metadata": {},
   "outputs": [],
   "source": [
    "X = bmiDataFrame.iloc[:,0:4]\n",
    "Y = bmiDataFrame.iloc[:,-1]"
   ]
  },
  {
   "cell_type": "code",
   "execution_count": 31,
   "id": "089b0080",
   "metadata": {},
   "outputs": [
    {
     "name": "stdout",
     "output_type": "stream",
     "text": [
      "bmiDataFrame.shape =  (741, 5) bmiDataFrame.size =  3705\n",
      "X_train.shape:  (592, 4) X_train.size:  2368\n",
      "X_test.shape:  (149, 4) X_test.size:  596\n",
      "Y_train.shape:  (592,) Y_train.size:  592\n",
      "Y_test.shape:  (149,) Y_test.size:  149\n"
     ]
    }
   ],
   "source": [
    "print('bmiDataFrame.shape = ',bmiDataFrame.shape,'bmiDataFrame.size = ',bmiDataFrame.size)\n",
    "print('X_train.shape: ',X_train.shape,'X_train.size: ',X_train.size)\n",
    "print('X_test.shape: ',X_test.shape,'X_test.size: ',X_test.size)\n",
    "print('Y_train.shape: ',Y_train.shape,'Y_train.size: ',Y_train.size)\n",
    "print('Y_test.shape: ',Y_test.shape,'Y_test.size: ',Y_test.size)"
   ]
  },
  {
   "cell_type": "code",
   "execution_count": 7,
   "id": "2ef3e9c5",
   "metadata": {},
   "outputs": [],
   "source": [
    "from sklearn.metrics import accuracy_score\n",
    "from sklearn.metrics import confusion_matrix\n",
    "from sklearn.metrics import classification_report "
   ]
  },
  {
   "cell_type": "code",
   "execution_count": 34,
   "id": "dfbffc1f",
   "metadata": {},
   "outputs": [
    {
     "name": "stdout",
     "output_type": "stream",
     "text": [
      "['Overweight' 'Obese Class 3' 'Normal Weight' 'Underweight'\n",
      " 'Normal Weight' 'Overweight' 'Normal Weight' 'Normal Weight'\n",
      " 'Normal Weight' 'Normal Weight' 'Normal Weight' 'Underweight'\n",
      " 'Normal Weight' 'Underweight' 'Normal Weight' 'Normal Weight'\n",
      " 'Underweight' 'Underweight' 'Obese Class 2' 'Normal Weight'\n",
      " 'Normal Weight' 'Normal Weight' 'Normal Weight' 'Normal Weight'\n",
      " 'Obese Class 3' 'Normal Weight' 'Normal Weight' 'Overweight'\n",
      " 'Normal Weight' 'Normal Weight' 'Normal Weight' 'Obese Class 2'\n",
      " 'Overweight' 'Obese Class 3' 'Normal Weight' 'Normal Weight'\n",
      " 'Underweight' 'Normal Weight' 'Normal Weight' 'Normal Weight'\n",
      " 'Obese Class 3' 'Normal Weight' 'Overweight' 'Underweight' 'Overweight'\n",
      " 'Normal Weight' 'Normal Weight' 'Normal Weight' 'Normal Weight'\n",
      " 'Normal Weight' 'Normal Weight' 'Normal Weight' 'Normal Weight'\n",
      " 'Underweight' 'Normal Weight' 'Obese Class 3' 'Overweight'\n",
      " 'Normal Weight' 'Normal Weight' 'Normal Weight' 'Normal Weight'\n",
      " 'Obese Class 3' 'Underweight' 'Normal Weight' 'Normal Weight'\n",
      " 'Normal Weight' 'Underweight' 'Normal Weight' 'Underweight'\n",
      " 'Normal Weight' 'Underweight' 'Normal Weight' 'Normal Weight'\n",
      " 'Obese Class 3' 'Normal Weight' 'Normal Weight' 'Normal Weight'\n",
      " 'Normal Weight' 'Normal Weight' 'Overweight' 'Normal Weight'\n",
      " 'Normal Weight' 'Normal Weight' 'Obese Class 3' 'Normal Weight'\n",
      " 'Normal Weight' 'Normal Weight' 'Normal Weight' 'Obese Class 3'\n",
      " 'Overweight' 'Normal Weight' 'Normal Weight' 'Overweight' 'Underweight'\n",
      " 'Underweight' 'Normal Weight' 'Normal Weight' 'Obese Class 3'\n",
      " 'Normal Weight' 'Underweight' 'Normal Weight' 'Normal Weight'\n",
      " 'Underweight' 'Normal Weight' 'Normal Weight' 'Normal Weight'\n",
      " 'Underweight' 'Overweight' 'Normal Weight' 'Normal Weight'\n",
      " 'Normal Weight' 'Normal Weight' 'Normal Weight' 'Normal Weight'\n",
      " 'Normal Weight' 'Normal Weight' 'Normal Weight' 'Overweight'\n",
      " 'Normal Weight' 'Obese Class 3' 'Underweight' 'Normal Weight'\n",
      " 'Underweight' 'Normal Weight' 'Normal Weight' 'Normal Weight'\n",
      " 'Overweight' 'Overweight' 'Overweight' 'Overweight' 'Normal Weight'\n",
      " 'Obese Class 3' 'Overweight' 'Normal Weight' 'Normal Weight' 'Overweight'\n",
      " 'Normal Weight' 'Underweight' 'Normal Weight' 'Overweight' 'Overweight'\n",
      " 'Normal Weight' 'Normal Weight' 'Normal Weight' 'Normal Weight'\n",
      " 'Underweight' 'Normal Weight' 'Normal Weight' 'Normal Weight']\n"
     ]
    },
    {
     "name": "stderr",
     "output_type": "stream",
     "text": [
      "C:\\Users\\Dell\\anaconda3\\anaconda\\lib\\site-packages\\sklearn\\linear_model\\_logistic.py:763: ConvergenceWarning: lbfgs failed to converge (status=1):\n",
      "STOP: TOTAL NO. of ITERATIONS REACHED LIMIT.\n",
      "\n",
      "Increase the number of iterations (max_iter) or scale the data as shown in:\n",
      "    https://scikit-learn.org/stable/modules/preprocessing.html\n",
      "Please also refer to the documentation for alternative solver options:\n",
      "    https://scikit-learn.org/stable/modules/linear_model.html#logistic-regression\n",
      "  n_iter_i = _check_optimize_result(\n"
     ]
    }
   ],
   "source": [
    "lr = lr.fit(X_train,Y_train)\n",
    "pred = lr.predict(X_test)\n",
    "print(pred)"
   ]
  },
  {
   "cell_type": "code",
   "execution_count": 35,
   "id": "66ddb33a",
   "metadata": {},
   "outputs": [
    {
     "name": "stdout",
     "output_type": "stream",
     "text": [
      "['Overweight' 'Obese Class 2' 'Normal Weight' 'Normal Weight'\n",
      " 'Normal Weight' 'Overweight' 'Normal Weight' 'Normal Weight'\n",
      " 'Normal Weight' 'Overweight' 'Normal Weight' 'Underweight'\n",
      " 'Normal Weight' 'Underweight' 'Normal Weight' 'Overweight' 'Underweight'\n",
      " 'Underweight' 'Obese Class 3' 'Normal Weight' 'Normal Weight'\n",
      " 'Normal Weight' 'Overweight' 'Normal Weight' 'Obese Class 3'\n",
      " 'Normal Weight' 'Normal Weight' 'Overweight' 'Normal Weight'\n",
      " 'Underweight' 'Normal Weight' 'Obese Class 1' 'Overweight'\n",
      " 'Obese Class 2' 'Normal Weight' 'Normal Weight' 'Underweight'\n",
      " 'Overweight' 'Normal Weight' 'Overweight' 'Obese Class 3' 'Normal Weight'\n",
      " 'Overweight' 'Underweight' 'Normal Weight' 'Underweight' 'Normal Weight'\n",
      " 'Normal Weight' 'Normal Weight' 'Overweight' 'Normal Weight'\n",
      " 'Normal Weight' 'Normal Weight' 'Underweight' 'Normal Weight'\n",
      " 'Obese Class 2' 'Obese Class 2' 'Underweight' 'Overweight' 'Overweight'\n",
      " 'Normal Weight' 'Obese Class 3' 'Underweight' 'Normal Weight'\n",
      " 'Overweight' 'Normal Weight' 'Underweight' 'Normal Weight' 'Underweight'\n",
      " 'Normal Weight' 'Underweight' 'Normal Weight' 'Normal Weight'\n",
      " 'Obese Class 3' 'Normal Weight' 'Overweight' 'Overweight' 'Overweight'\n",
      " 'Normal Weight' 'Normal Weight' 'Normal Weight' 'Overweight'\n",
      " 'Normal Weight' 'Obese Class 3' 'Normal Weight' 'Overweight'\n",
      " 'Normal Weight' 'Overweight' 'Obese Class 2' 'Obese Class 2' 'Overweight'\n",
      " 'Overweight' 'Obese Class 1' 'Underweight' 'Underweight' 'Normal Weight'\n",
      " 'Normal Weight' 'Obese Class 3' 'Overweight' 'Overweight' 'Overweight'\n",
      " 'Normal Weight' 'Underweight' 'Normal Weight' 'Normal Weight'\n",
      " 'Normal Weight' 'Underweight' 'Overweight' 'Normal Weight'\n",
      " 'Normal Weight' 'Overweight' 'Normal Weight' 'Normal Weight' 'Overweight'\n",
      " 'Normal Weight' 'Normal Weight' 'Normal Weight' 'Obese Class 2'\n",
      " 'Normal Weight' 'Obese Class 3' 'Underweight' 'Underweight' 'Overweight'\n",
      " 'Normal Weight' 'Normal Weight' 'Overweight' 'Overweight' 'Obese Class 2'\n",
      " 'Overweight' 'Normal Weight' 'Underweight' 'Obese Class 3' 'Overweight'\n",
      " 'Underweight' 'Underweight' 'Overweight' 'Normal Weight' 'Overweight'\n",
      " 'Overweight' 'Obese Class 1' 'Overweight' 'Normal Weight' 'Normal Weight'\n",
      " 'Normal Weight' 'Normal Weight' 'Underweight' 'Normal Weight'\n",
      " 'Normal Weight' 'Normal Weight']\n"
     ]
    }
   ],
   "source": [
    "print(Y_test)"
   ]
  },
  {
   "cell_type": "code",
   "execution_count": 36,
   "id": "8e201119",
   "metadata": {},
   "outputs": [
    {
     "name": "stdout",
     "output_type": "stream",
     "text": [
      "0.6711409395973155\n"
     ]
    }
   ],
   "source": [
    "a = accuracy_score(pred,Y_test)\n",
    "print(a)"
   ]
  },
  {
   "cell_type": "code",
   "execution_count": 37,
   "id": "8475822d",
   "metadata": {},
   "outputs": [
    {
     "data": {
      "text/plain": [
       "array([[64,  0,  0,  0, 23,  7],\n",
       "       [ 0,  0,  0,  0,  0,  0],\n",
       "       [ 0,  1,  0,  1,  0,  0],\n",
       "       [ 0,  0,  4,  8,  0,  0],\n",
       "       [ 3,  2,  4,  0, 11,  0],\n",
       "       [ 1,  0,  0,  0,  3, 17]], dtype=int64)"
      ]
     },
     "execution_count": 37,
     "metadata": {},
     "output_type": "execute_result"
    }
   ],
   "source": [
    "confusion_matrix(pred,Y_test)"
   ]
  },
  {
   "cell_type": "code",
   "execution_count": 13,
   "id": "35f0aa40",
   "metadata": {},
   "outputs": [
    {
     "data": {
      "text/html": [
       "<div>\n",
       "<style scoped>\n",
       "    .dataframe tbody tr th:only-of-type {\n",
       "        vertical-align: middle;\n",
       "    }\n",
       "\n",
       "    .dataframe tbody tr th {\n",
       "        vertical-align: top;\n",
       "    }\n",
       "\n",
       "    .dataframe thead th {\n",
       "        text-align: right;\n",
       "    }\n",
       "</style>\n",
       "<table border=\"1\" class=\"dataframe\">\n",
       "  <thead>\n",
       "    <tr style=\"text-align: right;\">\n",
       "      <th></th>\n",
       "      <th>Age</th>\n",
       "      <th>Height</th>\n",
       "      <th>Weight</th>\n",
       "      <th>Bmi</th>\n",
       "      <th>BmiClass</th>\n",
       "    </tr>\n",
       "  </thead>\n",
       "  <tbody>\n",
       "    <tr>\n",
       "      <th>0</th>\n",
       "      <td>61</td>\n",
       "      <td>1.85</td>\n",
       "      <td>109.30</td>\n",
       "      <td>31.935720</td>\n",
       "      <td>Obese Class 1</td>\n",
       "    </tr>\n",
       "    <tr>\n",
       "      <th>1</th>\n",
       "      <td>60</td>\n",
       "      <td>1.71</td>\n",
       "      <td>79.02</td>\n",
       "      <td>27.023700</td>\n",
       "      <td>Overweight</td>\n",
       "    </tr>\n",
       "    <tr>\n",
       "      <th>2</th>\n",
       "      <td>60</td>\n",
       "      <td>1.55</td>\n",
       "      <td>74.70</td>\n",
       "      <td>31.092612</td>\n",
       "      <td>Obese Class 1</td>\n",
       "    </tr>\n",
       "    <tr>\n",
       "      <th>3</th>\n",
       "      <td>60</td>\n",
       "      <td>1.46</td>\n",
       "      <td>35.90</td>\n",
       "      <td>16.841809</td>\n",
       "      <td>Underweight</td>\n",
       "    </tr>\n",
       "    <tr>\n",
       "      <th>4</th>\n",
       "      <td>60</td>\n",
       "      <td>1.58</td>\n",
       "      <td>97.10</td>\n",
       "      <td>38.896010</td>\n",
       "      <td>Obese Class 2</td>\n",
       "    </tr>\n",
       "    <tr>\n",
       "      <th>...</th>\n",
       "      <td>...</td>\n",
       "      <td>...</td>\n",
       "      <td>...</td>\n",
       "      <td>...</td>\n",
       "      <td>...</td>\n",
       "    </tr>\n",
       "    <tr>\n",
       "      <th>736</th>\n",
       "      <td>34</td>\n",
       "      <td>1.86</td>\n",
       "      <td>95.70</td>\n",
       "      <td>27.662157</td>\n",
       "      <td>Overweight</td>\n",
       "    </tr>\n",
       "    <tr>\n",
       "      <th>737</th>\n",
       "      <td>44</td>\n",
       "      <td>1.91</td>\n",
       "      <td>106.90</td>\n",
       "      <td>29.302925</td>\n",
       "      <td>Overweight</td>\n",
       "    </tr>\n",
       "    <tr>\n",
       "      <th>738</th>\n",
       "      <td>25</td>\n",
       "      <td>1.82</td>\n",
       "      <td>88.40</td>\n",
       "      <td>26.687598</td>\n",
       "      <td>Overweight</td>\n",
       "    </tr>\n",
       "    <tr>\n",
       "      <th>739</th>\n",
       "      <td>35</td>\n",
       "      <td>1.88</td>\n",
       "      <td>98.50</td>\n",
       "      <td>27.868945</td>\n",
       "      <td>Overweight</td>\n",
       "    </tr>\n",
       "    <tr>\n",
       "      <th>740</th>\n",
       "      <td>45</td>\n",
       "      <td>1.93</td>\n",
       "      <td>109.90</td>\n",
       "      <td>29.504148</td>\n",
       "      <td>Overweight</td>\n",
       "    </tr>\n",
       "  </tbody>\n",
       "</table>\n",
       "<p>741 rows × 5 columns</p>\n",
       "</div>"
      ],
      "text/plain": [
       "     Age  Height  Weight        Bmi       BmiClass\n",
       "0     61    1.85  109.30  31.935720  Obese Class 1\n",
       "1     60    1.71   79.02  27.023700     Overweight\n",
       "2     60    1.55   74.70  31.092612  Obese Class 1\n",
       "3     60    1.46   35.90  16.841809    Underweight\n",
       "4     60    1.58   97.10  38.896010  Obese Class 2\n",
       "..   ...     ...     ...        ...            ...\n",
       "736   34    1.86   95.70  27.662157     Overweight\n",
       "737   44    1.91  106.90  29.302925     Overweight\n",
       "738   25    1.82   88.40  26.687598     Overweight\n",
       "739   35    1.88   98.50  27.868945     Overweight\n",
       "740   45    1.93  109.90  29.504148     Overweight\n",
       "\n",
       "[741 rows x 5 columns]"
      ]
     },
     "execution_count": 13,
     "metadata": {},
     "output_type": "execute_result"
    }
   ],
   "source": [
    "from sklearn.neighbors import KNeighborsClassifier\n",
    "from sklearn.tree import DecisionTreeClassifier\n",
    "\n",
    "kn = KNeighborsClassifier()\n",
    "import pandas as pd\n",
    "bmiDataFrame = pd.read_csv('bmi.csv')\n",
    "bmiDataFrame"
   ]
  },
  {
   "cell_type": "code",
   "execution_count": 14,
   "id": "27d76f71",
   "metadata": {},
   "outputs": [],
   "source": [
    "bmi = bmiDataFrame.values\n",
    "\n",
    "X = bmi[:,0:4]\n",
    "Y = bmi[:,-1]"
   ]
  },
  {
   "cell_type": "code",
   "execution_count": 16,
   "id": "a450acab",
   "metadata": {},
   "outputs": [
    {
     "name": "stdout",
     "output_type": "stream",
     "text": [
      "['Overweight']\n"
     ]
    }
   ],
   "source": [
    "dtc = DecisionTreeClassifier()\n",
    "knc = KNeighborsClassifier()\n",
    "\n",
    "dtc = dtc.fit(X,Y)\n",
    "print(dtc.predict([[25,1.70,70,26.33]]))\n"
   ]
  },
  {
   "cell_type": "code",
   "execution_count": 19,
   "id": "b3e0a3d1",
   "metadata": {},
   "outputs": [
    {
     "data": {
      "text/plain": [
       "array(['Normal Weight', 'Underweight', 'Normal Weight', 'Normal Weight',\n",
       "       'Underweight', 'Underweight', 'Normal Weight', 'Normal Weight',\n",
       "       'Obese Class 3', 'Underweight', 'Overweight', 'Overweight',\n",
       "       'Normal Weight', 'Normal Weight', 'Normal Weight', 'Underweight',\n",
       "       'Obese Class 2', 'Normal Weight', 'Normal Weight', 'Underweight',\n",
       "       'Normal Weight', 'Overweight', 'Normal Weight', 'Normal Weight',\n",
       "       'Obese Class 3', 'Obese Class 2', 'Overweight', 'Normal Weight',\n",
       "       'Overweight', 'Normal Weight', 'Normal Weight', 'Normal Weight',\n",
       "       'Normal Weight', 'Normal Weight', 'Obese Class 2', 'Underweight',\n",
       "       'Obese Class 3', 'Obese Class 2', 'Normal Weight', 'Normal Weight',\n",
       "       'Obese Class 3', 'Normal Weight', 'Obese Class 3', 'Overweight',\n",
       "       'Normal Weight', 'Underweight', 'Underweight', 'Normal Weight',\n",
       "       'Obese Class 2', 'Underweight', 'Obese Class 1', 'Normal Weight',\n",
       "       'Obese Class 2', 'Underweight', 'Overweight', 'Normal Weight',\n",
       "       'Obese Class 3', 'Normal Weight', 'Overweight', 'Overweight',\n",
       "       'Obese Class 2', 'Underweight', 'Overweight', 'Normal Weight',\n",
       "       'Obese Class 3', 'Obese Class 3', 'Normal Weight', 'Obese Class 2',\n",
       "       'Overweight', 'Overweight', 'Overweight', 'Overweight',\n",
       "       'Obese Class 2', 'Normal Weight', 'Normal Weight', 'Normal Weight',\n",
       "       'Normal Weight', 'Obese Class 2', 'Overweight', 'Underweight',\n",
       "       'Obese Class 2', 'Obese Class 3', 'Underweight', 'Overweight',\n",
       "       'Normal Weight', 'Underweight', 'Normal Weight', 'Normal Weight',\n",
       "       'Normal Weight', 'Normal Weight', 'Overweight', 'Normal Weight',\n",
       "       'Obese Class 3', 'Overweight', 'Normal Weight', 'Normal Weight',\n",
       "       'Normal Weight', 'Underweight', 'Normal Weight', 'Normal Weight',\n",
       "       'Underweight', 'Overweight', 'Obese Class 3', 'Normal Weight',\n",
       "       'Obese Class 1', 'Normal Weight', 'Normal Weight', 'Normal Weight',\n",
       "       'Overweight', 'Normal Weight', 'Normal Weight', 'Normal Weight',\n",
       "       'Normal Weight', 'Normal Weight', 'Overweight', 'Overweight',\n",
       "       'Normal Weight', 'Normal Weight', 'Normal Weight', 'Obese Class 2',\n",
       "       'Underweight', 'Normal Weight', 'Normal Weight', 'Normal Weight',\n",
       "       'Normal Weight', 'Obese Class 1', 'Obese Class 2', 'Overweight',\n",
       "       'Obese Class 2', 'Normal Weight', 'Normal Weight', 'Normal Weight',\n",
       "       'Normal Weight', 'Normal Weight', 'Normal Weight', 'Overweight',\n",
       "       'Overweight', 'Normal Weight', 'Normal Weight', 'Overweight',\n",
       "       'Normal Weight', 'Underweight', 'Normal Weight', 'Normal Weight',\n",
       "       'Normal Weight', 'Normal Weight', 'Overweight', 'Underweight',\n",
       "       'Underweight'], dtype=object)"
      ]
     },
     "execution_count": 19,
     "metadata": {},
     "output_type": "execute_result"
    }
   ],
   "source": [
    "from sklearn import model_selection\n",
    "validation_size = 0.2\n",
    "X_train,X_test,Y_train,Y_test=model_selection.train_test_split(X,Y,test_size=validation_size)\n",
    "knc = knc.fit(X_train,Y_train)\n",
    "pred = knc.predict(X_test)\n",
    "pred"
   ]
  },
  {
   "cell_type": "code",
   "execution_count": 21,
   "id": "9654f43b",
   "metadata": {},
   "outputs": [
    {
     "name": "stdout",
     "output_type": "stream",
     "text": [
      "0.9328859060402684\n"
     ]
    }
   ],
   "source": [
    "from sklearn.metrics import accuracy_score\n",
    "from sklearn.metrics import confusion_matrix\n",
    "from sklearn.metrics import classification_report\n",
    "a = accuracy_score(pred,Y_test)\n",
    "print(a)"
   ]
  }
 ],
 "metadata": {
  "kernelspec": {
   "display_name": "Python 3 (ipykernel)",
   "language": "python",
   "name": "python3"
  },
  "language_info": {
   "codemirror_mode": {
    "name": "ipython",
    "version": 3
   },
   "file_extension": ".py",
   "mimetype": "text/x-python",
   "name": "python",
   "nbconvert_exporter": "python",
   "pygments_lexer": "ipython3",
   "version": "3.9.7"
  }
 },
 "nbformat": 4,
 "nbformat_minor": 5
}
